{
 "cells": [
  {
   "cell_type": "code",
   "execution_count": 1,
   "metadata": {},
   "outputs": [],
   "source": [
    "import pandas as pd\n",
    "import numpy as np"
   ]
  },
  {
   "cell_type": "code",
   "execution_count": 2,
   "metadata": {},
   "outputs": [],
   "source": [
    "train_df = pd.read_csv('pfm_train.csv')\n",
    "test_df = pd.read_csv('pfm_test.csv')"
   ]
  },
  {
   "cell_type": "code",
   "execution_count": 3,
   "metadata": {},
   "outputs": [],
   "source": [
    "train_df.head(5)\n",
    "y_train = train_df.Attrition\n",
    "train_df.drop(['Attrition'],axis=1,inplace=True)"
   ]
  },
  {
   "cell_type": "code",
   "execution_count": 4,
   "metadata": {},
   "outputs": [],
   "source": [
    "def cleaningdata(data):\n",
    "    data.drop(['Over18'],axis=1,inplace = True)\n",
    "    data.drop(['StandardHours'],axis=1,inplace = True)\n",
    "    data.drop(['EmployeeNumber'],axis=1,inplace = True)\n",
    "    data = pd.get_dummies(data)\n",
    "    return data"
   ]
  },
  {
   "cell_type": "code",
   "execution_count": 5,
   "metadata": {},
   "outputs": [],
   "source": [
    "train_df = cleaningdata(train_df)\n",
    "test_df = cleaningdata(test_df)"
   ]
  },
  {
   "cell_type": "code",
   "execution_count": 6,
   "metadata": {},
   "outputs": [],
   "source": [
    "# from sklearn.model_selection import train_test_split\n",
    "# X_train, X_test, y_train, y_test = train_test_split(train_df, y_train, test_size=0.2)"
   ]
  },
  {
   "cell_type": "code",
   "execution_count": 7,
   "metadata": {},
   "outputs": [],
   "source": [
    "from sklearn import ensemble\n",
    "m3 = ensemble.ExtraTreesClassifier(n_estimators=40, \n",
    "                                   max_depth=20,\n",
    "                                   min_samples_split=3,\n",
    "                                   random_state=0)\n",
    "m3.fit(train_df, y_train)\n",
    "y_pred3 = m3.predict(test_df)\n",
    "sub = pd.DataFrame()\n",
    "sub['result1'] = y_pred3\n",
    "# print('Accuracy: {}'.format(m3.score(X_test,y_test)))"
   ]
  },
  {
   "cell_type": "code",
   "execution_count": 8,
   "metadata": {},
   "outputs": [],
   "source": [
    "from sklearn import ensemble\n",
    "m4 = ensemble.RandomForestClassifier(n_estimators=100, \n",
    "                                   max_depth=22,\n",
    "                                   min_samples_split=3,\n",
    "                                   random_state=0)\n",
    "m4.fit(train_df, y_train)\n",
    "y_pred4 = m4.predict(test_df)\n",
    "\n",
    "sub['result2'] = y_pred4\n",
    "\n",
    "# print('Accuracy: {}'.format(m4.score(X_test,y_test)))"
   ]
  },
  {
   "cell_type": "code",
   "execution_count": 9,
   "metadata": {},
   "outputs": [
    {
     "name": "stdout",
     "output_type": "stream",
     "text": [
      "Wall time: 561 ms\n"
     ]
    },
    {
     "name": "stderr",
     "output_type": "stream",
     "text": [
      "c:\\users\\user\\appdata\\local\\programs\\python\\python36\\lib\\site-packages\\sklearn\\preprocessing\\label.py:151: DeprecationWarning: The truth value of an empty array is ambiguous. Returning False, but in future this will result in an error. Use `array.size > 0` to check that an array is not empty.\n",
      "  if diff:\n"
     ]
    }
   ],
   "source": [
    "%%time\n",
    "from lightgbm import LGBMClassifier\n",
    "m1 = LGBMClassifier(class_weight='balanced', boosting_type='dart',\n",
    "                         drop_rate=0.1, min_data_in_leaf=50, \n",
    "                         max_bin=255,\n",
    "                         n_estimators=800,\n",
    "                         bagging_fraction=0.01,\n",
    "                         min_sum_hessian_in_leaf=1,\n",
    "                         importance_type='gain',\n",
    "                         learning_rate=0.2, \n",
    "                         max_depth=10, \n",
    "                         num_leaves=10)\n",
    "m1.fit(train_df, y_train)\n",
    "y_pred1 = m1.predict(test_df)\n",
    "sub['result3'] = y_pred1\n",
    "\n",
    "# print('Accuracy: {}'.format(m1.score(X_test,y_test)))"
   ]
  },
  {
   "cell_type": "code",
   "execution_count": 10,
   "metadata": {},
   "outputs": [],
   "source": [
    "preds = sub.mode(axis=1)"
   ]
  },
  {
   "cell_type": "code",
   "execution_count": 11,
   "metadata": {},
   "outputs": [],
   "source": [
    "sub = pd.DataFrame(columns=['result'])"
   ]
  },
  {
   "cell_type": "code",
   "execution_count": 12,
   "metadata": {},
   "outputs": [],
   "source": [
    "sub['result'] = preds[0]\n",
    "sub.to_csv('3ensemble_output.csv',index=None)"
   ]
  }
 ],
 "metadata": {
  "kernelspec": {
   "display_name": "Python 3",
   "language": "python",
   "name": "python3"
  },
  "language_info": {
   "codemirror_mode": {
    "name": "ipython",
    "version": 3
   },
   "file_extension": ".py",
   "mimetype": "text/x-python",
   "name": "python",
   "nbconvert_exporter": "python",
   "pygments_lexer": "ipython3",
   "version": "3.6.4"
  }
 },
 "nbformat": 4,
 "nbformat_minor": 2
}
